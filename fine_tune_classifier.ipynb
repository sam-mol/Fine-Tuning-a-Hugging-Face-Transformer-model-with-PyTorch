{
 "cells": [
  {
   "cell_type": "markdown",
   "id": "ffd25fa5-47ba-4c89-bdcc-dd7b6d16185f",
   "metadata": {},
   "source": [
    "## Fine-tuning a pretrained transformer model from Hugging Face for text classification using PyTorch."
   ]
  },
  {
   "cell_type": "raw",
   "id": "054f8b57-9354-4534-a49e-c97850c8b12f",
   "metadata": {},
   "source": [
    "Using a pretrained large language model from Hugging Face allows us to use the State-of-The-Art transformer models without having to train one from scratch. Hugging Face Transformers library provides access to thousands of pretrained models for a wide range of tasks. \n",
    "When we use a pretrained model, we can retrain it on a dataset specific to our task. This approach is known as fine-tuning, an incredibly \n",
    "powerful training technique. In this project, I will fine-tune DistilBert pretrained model from Hugging Face library. \n",
    "Fine-tuning a pretrained model Hugging Face could be done by using Hugging Face Trainer API, but in this project I use PyTorch methods for this task. Fine-tuning a pretrained model is more efficient approach compared to feature extraction approach I developed in another project."
   ]
  },
  {
   "cell_type": "code",
   "execution_count": null,
   "id": "57ea0a5b-de89-4dbb-aff9-ac9a1e7fc3e2",
   "metadata": {},
   "outputs": [],
   "source": [
    "from datasets import load_dataset\n",
    "from transformers import AutoTokenizer\n",
    "from transformers import AutoModelForSequenceClassification\n",
    "from transformers import get_scheduler\n",
    "\n",
    "import torch\n",
    "from torch.utils.data import DataLoader\n",
    "from torch.optim import AdamW\n",
    "from sklearn.metrics import accuracy_score, f1_score\n",
    "from tqdm.auto import tqdm\n"
   ]
  },
  {
   "cell_type": "code",
   "execution_count": 1,
   "id": "beb1cb6e-bf10-4acf-8e94-c885ee4c51d9",
   "metadata": {},
   "outputs": [],
   "source": [
    "# from datasets import load_dataset"
   ]
  },
  {
   "cell_type": "code",
   "execution_count": 2,
   "id": "d8e456f1-1a63-46e5-b91a-41a84b3bfc0d",
   "metadata": {},
   "outputs": [],
   "source": [
    "dataset = load_dataset(\"emotion\")"
   ]
  },
  {
   "cell_type": "code",
   "execution_count": 3,
   "id": "7f2655ab-b34e-4028-8841-42720a2a5f4b",
   "metadata": {},
   "outputs": [
    {
     "data": {
      "text/plain": [
       "DatasetDict({\n",
       "    train: Dataset({\n",
       "        features: ['text', 'label'],\n",
       "        num_rows: 16000\n",
       "    })\n",
       "    validation: Dataset({\n",
       "        features: ['text', 'label'],\n",
       "        num_rows: 2000\n",
       "    })\n",
       "    test: Dataset({\n",
       "        features: ['text', 'label'],\n",
       "        num_rows: 2000\n",
       "    })\n",
       "})"
      ]
     },
     "execution_count": 3,
     "metadata": {},
     "output_type": "execute_result"
    }
   ],
   "source": [
    "dataset"
   ]
  },
  {
   "cell_type": "code",
   "execution_count": 6,
   "id": "70235e85-8607-43d0-849d-7778bfd938f7",
   "metadata": {},
   "outputs": [
    {
     "data": {
      "text/plain": [
       "{'text': ['i didnt feel humiliated',\n",
       "  'i can go from feeling so hopeless to so damned hopeful just from being around someone who cares and is awake',\n",
       "  'im grabbing a minute to post i feel greedy wrong'],\n",
       " 'label': [0, 0, 3]}"
      ]
     },
     "execution_count": 6,
     "metadata": {},
     "output_type": "execute_result"
    }
   ],
   "source": [
    "dataset[\"train\"][:3]"
   ]
  },
  {
   "cell_type": "markdown",
   "id": "7cf5f991-44bd-4a5f-8a71-ed32c5d6b63f",
   "metadata": {},
   "source": [
    "### Tokenize the data"
   ]
  },
  {
   "cell_type": "code",
   "execution_count": 7,
   "id": "17e9d9e9-0798-489c-8861-231036d05f59",
   "metadata": {},
   "outputs": [],
   "source": [
    "# from transformers import AutoTokenizer"
   ]
  },
  {
   "cell_type": "code",
   "execution_count": 8,
   "id": "f9a003b8-3176-416f-b33f-c1c5940ba7f9",
   "metadata": {},
   "outputs": [
    {
     "name": "stderr",
     "output_type": "stream",
     "text": [
      "/Users/sm/anaconda3/lib/python3.11/site-packages/transformers/tokenization_utils_base.py:1601: FutureWarning: `clean_up_tokenization_spaces` was not set. It will be set to `True` by default. This behavior will be depracted in transformers v4.45, and will be then set to `False` by default. For more details check this issue: https://github.com/huggingface/transformers/issues/31884\n",
      "  warnings.warn(\n"
     ]
    }
   ],
   "source": [
    "tokenizer = AutoTokenizer.from_pretrained(\"distilbert-base-uncased\")"
   ]
  },
  {
   "cell_type": "code",
   "execution_count": 9,
   "id": "eddc7b2a-761f-4c3f-8817-2bf5bbd30b33",
   "metadata": {},
   "outputs": [],
   "source": [
    "def tokenize_function(data):\n",
    "    return tokenizer(data[\"text\"], padding=\"max_length\", truncation=True)"
   ]
  },
  {
   "cell_type": "code",
   "execution_count": 10,
   "id": "8f4b24e7-8796-4ec5-b13c-a5e4ff6eadc1",
   "metadata": {},
   "outputs": [
    {
     "data": {
      "application/vnd.jupyter.widget-view+json": {
       "model_id": "e06ec3420b6b4bd1b7358aaaca0d9512",
       "version_major": 2,
       "version_minor": 0
      },
      "text/plain": [
       "Map:   0%|          | 0/16000 [00:00<?, ? examples/s]"
      ]
     },
     "metadata": {},
     "output_type": "display_data"
    },
    {
     "data": {
      "application/vnd.jupyter.widget-view+json": {
       "model_id": "3477cb3d74a44b1ca0b1041a2399c32b",
       "version_major": 2,
       "version_minor": 0
      },
      "text/plain": [
       "Map:   0%|          | 0/2000 [00:00<?, ? examples/s]"
      ]
     },
     "metadata": {},
     "output_type": "display_data"
    },
    {
     "data": {
      "application/vnd.jupyter.widget-view+json": {
       "model_id": "04aac2558bfa42e1a815ef8c9a2fe272",
       "version_major": 2,
       "version_minor": 0
      },
      "text/plain": [
       "Map:   0%|          | 0/2000 [00:00<?, ? examples/s]"
      ]
     },
     "metadata": {},
     "output_type": "display_data"
    }
   ],
   "source": [
    "tokenized_data = dataset.map(tokenize_function, batched=True)"
   ]
  },
  {
   "cell_type": "code",
   "execution_count": 11,
   "id": "f2f11b5b-9354-4d4b-8b63-70335335a890",
   "metadata": {},
   "outputs": [
    {
     "data": {
      "text/plain": [
       "DatasetDict({\n",
       "    train: Dataset({\n",
       "        features: ['text', 'label', 'input_ids', 'attention_mask'],\n",
       "        num_rows: 16000\n",
       "    })\n",
       "    validation: Dataset({\n",
       "        features: ['text', 'label', 'input_ids', 'attention_mask'],\n",
       "        num_rows: 2000\n",
       "    })\n",
       "    test: Dataset({\n",
       "        features: ['text', 'label', 'input_ids', 'attention_mask'],\n",
       "        num_rows: 2000\n",
       "    })\n",
       "})"
      ]
     },
     "execution_count": 11,
     "metadata": {},
     "output_type": "execute_result"
    }
   ],
   "source": [
    "tokenized_data"
   ]
  },
  {
   "cell_type": "code",
   "execution_count": 12,
   "id": "f6b8f065-3bc0-4eb1-a28d-427ef8085702",
   "metadata": {},
   "outputs": [],
   "source": [
    "# The tokenized dataset contains \"text\" column, which we need to remove because the transformer model does not accept raw text as input\n",
    "\n",
    "tokenized_data = tokenized_data.remove_columns([\"text\"])"
   ]
  },
  {
   "cell_type": "code",
   "execution_count": 13,
   "id": "335578f2-17de-4699-84ff-7ac8abf08361",
   "metadata": {},
   "outputs": [
    {
     "data": {
      "text/plain": [
       "DatasetDict({\n",
       "    train: Dataset({\n",
       "        features: ['label', 'input_ids', 'attention_mask'],\n",
       "        num_rows: 16000\n",
       "    })\n",
       "    validation: Dataset({\n",
       "        features: ['label', 'input_ids', 'attention_mask'],\n",
       "        num_rows: 2000\n",
       "    })\n",
       "    test: Dataset({\n",
       "        features: ['label', 'input_ids', 'attention_mask'],\n",
       "        num_rows: 2000\n",
       "    })\n",
       "})"
      ]
     },
     "execution_count": 13,
     "metadata": {},
     "output_type": "execute_result"
    }
   ],
   "source": [
    "tokenized_data"
   ]
  },
  {
   "cell_type": "code",
   "execution_count": 14,
   "id": "0df8c32b-1d90-4cb5-9ebc-e0eca126a13c",
   "metadata": {},
   "outputs": [],
   "source": [
    "# Rename column \"label\" to \"labels\" because the model expects \"labels\" column\n",
    "\n",
    "tokenized_data = tokenized_data.rename_column(\"label\", \"labels\")"
   ]
  },
  {
   "cell_type": "code",
   "execution_count": 15,
   "id": "223ade21-239d-44cf-8e39-a07cf819c302",
   "metadata": {},
   "outputs": [
    {
     "data": {
      "text/plain": [
       "DatasetDict({\n",
       "    train: Dataset({\n",
       "        features: ['labels', 'input_ids', 'attention_mask'],\n",
       "        num_rows: 16000\n",
       "    })\n",
       "    validation: Dataset({\n",
       "        features: ['labels', 'input_ids', 'attention_mask'],\n",
       "        num_rows: 2000\n",
       "    })\n",
       "    test: Dataset({\n",
       "        features: ['labels', 'input_ids', 'attention_mask'],\n",
       "        num_rows: 2000\n",
       "    })\n",
       "})"
      ]
     },
     "execution_count": 15,
     "metadata": {},
     "output_type": "execute_result"
    }
   ],
   "source": [
    "tokenized_data"
   ]
  },
  {
   "cell_type": "code",
   "execution_count": 16,
   "id": "96baf153-cb90-44ad-9f0e-752f86b2a288",
   "metadata": {},
   "outputs": [],
   "source": [
    "tokenized_data.set_format(\"torch\")"
   ]
  },
  {
   "cell_type": "code",
   "execution_count": 17,
   "id": "2a7329c7-1abc-43fe-a932-621e5dc584ad",
   "metadata": {},
   "outputs": [
    {
     "data": {
      "text/plain": [
       "DatasetDict({\n",
       "    train: Dataset({\n",
       "        features: ['labels', 'input_ids', 'attention_mask'],\n",
       "        num_rows: 16000\n",
       "    })\n",
       "    validation: Dataset({\n",
       "        features: ['labels', 'input_ids', 'attention_mask'],\n",
       "        num_rows: 2000\n",
       "    })\n",
       "    test: Dataset({\n",
       "        features: ['labels', 'input_ids', 'attention_mask'],\n",
       "        num_rows: 2000\n",
       "    })\n",
       "})"
      ]
     },
     "execution_count": 17,
     "metadata": {},
     "output_type": "execute_result"
    }
   ],
   "source": [
    "tokenized_data"
   ]
  },
  {
   "cell_type": "code",
   "execution_count": 18,
   "id": "45bb6857-17b6-42bc-b89e-ef304aee9643",
   "metadata": {},
   "outputs": [],
   "source": [
    "# Select a small fraction of the data for training and evaluation\n",
    "\n",
    "small_train_data = tokenized_data[\"train\"].shuffle(seed=42).select(range(1000))\n",
    "small_val_data = tokenized_data[\"test\"].shuffle(seed=42).select(range(1000))"
   ]
  },
  {
   "cell_type": "code",
   "execution_count": 19,
   "id": "830f71c4-8ea1-4780-9ed5-997932315bb1",
   "metadata": {
    "jp-MarkdownHeadingCollapsed": true
   },
   "outputs": [
    {
     "data": {
      "text/plain": [
       "Dataset({\n",
       "    features: ['labels', 'input_ids', 'attention_mask'],\n",
       "    num_rows: 1000\n",
       "})"
      ]
     },
     "execution_count": 19,
     "metadata": {},
     "output_type": "execute_result"
    }
   ],
   "source": [
    "small_train_data"
   ]
  },
  {
   "cell_type": "markdown",
   "id": "c7521904-48c9-4f0e-b5c8-b43da8f268de",
   "metadata": {},
   "source": [
    "## DataLoader"
   ]
  },
  {
   "cell_type": "code",
   "execution_count": 20,
   "id": "1e3f57e6-821c-4e5f-9c79-dd0ed8de2fe0",
   "metadata": {},
   "outputs": [],
   "source": [
    "# from torch.utils.data import DataLoader\n",
    "\n",
    "train_loader = DataLoader(small_train_data, shuffle=True, batch_size=8)\n",
    "val_loader = DataLoader(small_val_data, batch_size=8)"
   ]
  },
  {
   "cell_type": "markdown",
   "id": "11b11882-63f3-41b0-a35b-24a15aa7ec86",
   "metadata": {},
   "source": [
    "## Getting a pretrained transformer model from Hugging Face"
   ]
  },
  {
   "cell_type": "code",
   "execution_count": 21,
   "id": "525eb155-8f53-48de-b3d1-4fff4817ff21",
   "metadata": {},
   "outputs": [
    {
     "name": "stderr",
     "output_type": "stream",
     "text": [
      "Some weights of DistilBertForSequenceClassification were not initialized from the model checkpoint at distilbert-base-uncased and are newly initialized: ['classifier.bias', 'classifier.weight', 'pre_classifier.bias', 'pre_classifier.weight']\n",
      "You should probably TRAIN this model on a down-stream task to be able to use it for predictions and inference.\n"
     ]
    }
   ],
   "source": [
    "# from transformers import AutoModelForSequenceClassification\n",
    "\n",
    "# We will replace the output layer of the pretrained model with a new layer, which will output 6 values\n",
    "# The weights in the new layer will be adjusted when we train the modified model on new data\n",
    "\n",
    "model = AutoModelForSequenceClassification.from_pretrained(\"distilbert-base-uncased\", num_labels=6)"
   ]
  },
  {
   "cell_type": "code",
   "execution_count": 22,
   "id": "fc7a99cd-d99e-4610-9097-d3949380d359",
   "metadata": {},
   "outputs": [],
   "source": [
    "# from torch.optim import AdamW\n",
    "\n",
    "optimizer = AdamW(model.parameters(), lr=5e-5)"
   ]
  },
  {
   "cell_type": "code",
   "execution_count": 23,
   "id": "1c37ef41-4a2b-449d-8b38-1aa4315266fe",
   "metadata": {},
   "outputs": [],
   "source": [
    "# from transformers import get_scheduler\n",
    "\n",
    "num_epochs = 3\n",
    "num_training_steps = num_epochs * len(train_loader)\n",
    "lr_scheduler = get_scheduler(name=\"linear\", optimizer=optimizer, num_warmup_steps=0, num_training_steps=num_training_steps)"
   ]
  },
  {
   "cell_type": "code",
   "execution_count": 24,
   "id": "5c276a23-a59f-4d03-8a03-9abe0aae2b51",
   "metadata": {},
   "outputs": [
    {
     "data": {
      "text/plain": [
       "DistilBertForSequenceClassification(\n",
       "  (distilbert): DistilBertModel(\n",
       "    (embeddings): Embeddings(\n",
       "      (word_embeddings): Embedding(30522, 768, padding_idx=0)\n",
       "      (position_embeddings): Embedding(512, 768)\n",
       "      (LayerNorm): LayerNorm((768,), eps=1e-12, elementwise_affine=True)\n",
       "      (dropout): Dropout(p=0.1, inplace=False)\n",
       "    )\n",
       "    (transformer): Transformer(\n",
       "      (layer): ModuleList(\n",
       "        (0-5): 6 x TransformerBlock(\n",
       "          (attention): MultiHeadSelfAttention(\n",
       "            (dropout): Dropout(p=0.1, inplace=False)\n",
       "            (q_lin): Linear(in_features=768, out_features=768, bias=True)\n",
       "            (k_lin): Linear(in_features=768, out_features=768, bias=True)\n",
       "            (v_lin): Linear(in_features=768, out_features=768, bias=True)\n",
       "            (out_lin): Linear(in_features=768, out_features=768, bias=True)\n",
       "          )\n",
       "          (sa_layer_norm): LayerNorm((768,), eps=1e-12, elementwise_affine=True)\n",
       "          (ffn): FFN(\n",
       "            (dropout): Dropout(p=0.1, inplace=False)\n",
       "            (lin1): Linear(in_features=768, out_features=3072, bias=True)\n",
       "            (lin2): Linear(in_features=3072, out_features=768, bias=True)\n",
       "            (activation): GELUActivation()\n",
       "          )\n",
       "          (output_layer_norm): LayerNorm((768,), eps=1e-12, elementwise_affine=True)\n",
       "        )\n",
       "      )\n",
       "    )\n",
       "  )\n",
       "  (pre_classifier): Linear(in_features=768, out_features=768, bias=True)\n",
       "  (classifier): Linear(in_features=768, out_features=6, bias=True)\n",
       "  (dropout): Dropout(p=0.2, inplace=False)\n",
       ")"
      ]
     },
     "execution_count": 24,
     "metadata": {},
     "output_type": "execute_result"
    }
   ],
   "source": [
    "# import torch\n",
    "\n",
    "device = torch.device(\"cuda\") if torch.cuda.is_available() else torch.device(\"cpu\")\n",
    "model.to(device)"
   ]
  },
  {
   "cell_type": "code",
   "execution_count": 25,
   "id": "2d2486e4-7a5b-402f-b0eb-0cd6bda21ee3",
   "metadata": {},
   "outputs": [
    {
     "name": "stdout",
     "output_type": "stream",
     "text": [
      "dict_items([('labels', tensor([4, 1, 0, 0, 1, 1, 1, 0])), ('input_ids', tensor([[  101, 10047,  3110,  ...,     0,     0,     0],\n",
      "        [  101,  1045,  2514,  ...,     0,     0,     0],\n",
      "        [  101, 10047,  5305,  ...,     0,     0,     0],\n",
      "        ...,\n",
      "        [  101,  1045,  2156,  ...,     0,     0,     0],\n",
      "        [  101,  1045,  2001,  ...,     0,     0,     0],\n",
      "        [  101,  8909,  2066,  ...,     0,     0,     0]])), ('attention_mask', tensor([[1, 1, 1,  ..., 0, 0, 0],\n",
      "        [1, 1, 1,  ..., 0, 0, 0],\n",
      "        [1, 1, 1,  ..., 0, 0, 0],\n",
      "        ...,\n",
      "        [1, 1, 1,  ..., 0, 0, 0],\n",
      "        [1, 1, 1,  ..., 0, 0, 0],\n",
      "        [1, 1, 1,  ..., 0, 0, 0]]))])\n"
     ]
    }
   ],
   "source": [
    "# dataloader iterates over the dataset and returns dict_items object, which we need to \n",
    "# transform into a regular dictionary\n",
    "\n",
    "for batch in train_loader:\n",
    "    print(batch.items())\n",
    "    break"
   ]
  },
  {
   "cell_type": "code",
   "execution_count": 26,
   "id": "5cd52c5e-26f5-44a1-aca1-7b3b3a819bd2",
   "metadata": {},
   "outputs": [
    {
     "name": "stdout",
     "output_type": "stream",
     "text": [
      "{'labels': tensor([4, 0, 0, 0, 1, 1, 1, 0]), 'input_ids': tensor([[ 101, 1045, 2318,  ...,    0,    0,    0],\n",
      "        [ 101, 1045, 2514,  ...,    0,    0,    0],\n",
      "        [ 101, 1045, 2514,  ...,    0,    0,    0],\n",
      "        ...,\n",
      "        [ 101, 1045, 2572,  ...,    0,    0,    0],\n",
      "        [ 101, 1045, 5683,  ...,    0,    0,    0],\n",
      "        [ 101, 1045, 2514,  ...,    0,    0,    0]]), 'attention_mask': tensor([[1, 1, 1,  ..., 0, 0, 0],\n",
      "        [1, 1, 1,  ..., 0, 0, 0],\n",
      "        [1, 1, 1,  ..., 0, 0, 0],\n",
      "        ...,\n",
      "        [1, 1, 1,  ..., 0, 0, 0],\n",
      "        [1, 1, 1,  ..., 0, 0, 0],\n",
      "        [1, 1, 1,  ..., 0, 0, 0]])}\n"
     ]
    }
   ],
   "source": [
    "for batch in train_loader:\n",
    "    print({k: v.to(device) for k, v in batch.items()})\n",
    "    break"
   ]
  },
  {
   "cell_type": "code",
   "execution_count": 27,
   "id": "d3051147-0b68-41e7-b0b4-023fc4d84ad5",
   "metadata": {},
   "outputs": [
    {
     "data": {
      "application/vnd.jupyter.widget-view+json": {
       "model_id": "70c681819f3949aebb2d6a500bc112e7",
       "version_major": 2,
       "version_minor": 0
      },
      "text/plain": [
       "  0%|          | 0/375 [00:00<?, ?it/s]"
      ]
     },
     "metadata": {},
     "output_type": "display_data"
    }
   ],
   "source": [
    "# from tqdm.auto import tqdm\n",
    "\n",
    "progress_bar = tqdm(range(num_training_steps))\n",
    "\n",
    "model.train()\n",
    "\n",
    "for epoch in range(num_epochs):\n",
    "    for batch in train_loader:\n",
    "        batch = {k: v.to(device) for k, v in batch.items()}\n",
    "        outputs = model(**batch)\n",
    "        loss = outputs.loss\n",
    "        loss.backward()\n",
    "        \n",
    "        optimizer.step()\n",
    "        lr_scheduler.step()\n",
    "        optimizer.zero_grad()\n",
    "        progress_bar.update(1)\n",
    "        "
   ]
  },
  {
   "cell_type": "code",
   "execution_count": 28,
   "id": "8dfb3876-8562-4941-846d-c17a72ca0093",
   "metadata": {},
   "outputs": [
    {
     "name": "stdout",
     "output_type": "stream",
     "text": [
      "outputs:  SequenceClassifierOutput(loss=tensor(0.1218), logits=tensor([[ 3.9552, -1.4628, -1.3047, -0.1477,  0.5281, -1.7380],\n",
      "        [-1.2675,  4.0091, -0.3530, -1.5876, -0.9311, -0.8032],\n",
      "        [-1.1374,  3.5222,  1.2953, -1.8349, -1.8817, -1.4354],\n",
      "        [-1.0024,  4.1088,  0.4523, -1.8550, -1.4940, -1.5696],\n",
      "        [ 3.9637, -1.3681, -1.1258,  0.8676, -0.8791, -1.6526],\n",
      "        [-0.5630,  1.2790,  2.4399, -1.4360, -1.6700, -1.4027],\n",
      "        [ 4.3816, -1.2579, -1.1618, -0.4273, -0.1583, -1.7490],\n",
      "        [-0.5774, -1.2477, -1.6858,  2.6211,  0.9773, -0.6734]]), hidden_states=None, attentions=None)\n",
      "logits:  tensor([[ 3.9552, -1.4628, -1.3047, -0.1477,  0.5281, -1.7380],\n",
      "        [-1.2675,  4.0091, -0.3530, -1.5876, -0.9311, -0.8032],\n",
      "        [-1.1374,  3.5222,  1.2953, -1.8349, -1.8817, -1.4354],\n",
      "        [-1.0024,  4.1088,  0.4523, -1.8550, -1.4940, -1.5696],\n",
      "        [ 3.9637, -1.3681, -1.1258,  0.8676, -0.8791, -1.6526],\n",
      "        [-0.5630,  1.2790,  2.4399, -1.4360, -1.6700, -1.4027],\n",
      "        [ 4.3816, -1.2579, -1.1618, -0.4273, -0.1583, -1.7490],\n",
      "        [-0.5774, -1.2477, -1.6858,  2.6211,  0.9773, -0.6734]])\n",
      "predictions:  tensor([0, 1, 1, 1, 0, 2, 0, 3])\n"
     ]
    }
   ],
   "source": [
    "model.eval()\n",
    "for batch in val_loader:\n",
    "    batch = {k: v.to(device) for k, v in batch.items()}\n",
    "    with torch.no_grad():\n",
    "        outputs = model(**batch)\n",
    "    print(\"outputs: \", outputs)\n",
    "    logits = outputs.logits\n",
    "    print(\"logits: \", logits)\n",
    "    predictions = torch.argmax(logits, dim=-1)\n",
    "    print(\"predictions: \", predictions)\n",
    "    break\n",
    "    "
   ]
  },
  {
   "cell_type": "code",
   "execution_count": 31,
   "id": "5011641a-da28-40a9-bdb9-70d9ed86aa41",
   "metadata": {},
   "outputs": [
    {
     "data": {
      "application/vnd.jupyter.widget-view+json": {
       "model_id": "bac741c26c9f43dfbc98e0573fdbca65",
       "version_major": 2,
       "version_minor": 0
      },
      "text/plain": [
       "  0%|          | 0/125 [00:00<?, ?it/s]"
      ]
     },
     "metadata": {},
     "output_type": "display_data"
    },
    {
     "name": "stdout",
     "output_type": "stream",
     "text": [
      "accuracy:  tensor(0.8630)\n",
      "accuracy score:  0.863\n",
      "f1 score:  0.8624829670329671\n"
     ]
    }
   ],
   "source": [
    "progress_bar = tqdm(range(len(val_loader)))\n",
    "\n",
    "from sklearn.metrics import accuracy_score, f1_score\n",
    "\n",
    "model.eval()\n",
    "\n",
    "accuracy = 0\n",
    "acc_score = 0\n",
    "f1 = 0\n",
    "\n",
    "for batch in val_loader:\n",
    "    batch = {k: v.to(device) for k, v in batch.items()}\n",
    "    with torch.no_grad():\n",
    "        outputs = model(**batch)\n",
    "    logits = outputs.logits\n",
    "    predictions = torch.argmax(logits, dim=1)\n",
    "    accuracy += torch.sum(predictions == batch['labels'])/len(batch['labels'])\n",
    "    acc_score += accuracy_score(batch['labels'], predictions)\n",
    "    f1 += f1_score(batch['labels'], predictions, average='weighted') \n",
    "    progress_bar.update(1)\n",
    "    \n",
    "   \n",
    "accuracy = accuracy/len(val_loader)\n",
    "acc_score = acc_score/len(val_loader)\n",
    "f1 = f1/len(val_loader)\n",
    "\n",
    "print(\"accuracy: \", accuracy)\n",
    "print(\"accuracy score: \", acc_score)\n",
    "print('f1 score: ', f1)"
   ]
  },
  {
   "cell_type": "raw",
   "id": "0783a0ec-e0c0-4ec1-8d35-3797f4cd0003",
   "metadata": {},
   "source": [
    "Fine-tuning a pretrained model is more efficient approach since even with just 1000 training examples, the accuracy is much higher than \n",
    "with feature extraction approach I developed in another project."
   ]
  },
  {
   "cell_type": "code",
   "execution_count": null,
   "id": "17a292da-ab87-43f8-9645-2ec8dc75e67e",
   "metadata": {},
   "outputs": [],
   "source": []
  }
 ],
 "metadata": {
  "kernelspec": {
   "display_name": "Python 3 (ipykernel)",
   "language": "python",
   "name": "python3"
  },
  "language_info": {
   "codemirror_mode": {
    "name": "ipython",
    "version": 3
   },
   "file_extension": ".py",
   "mimetype": "text/x-python",
   "name": "python",
   "nbconvert_exporter": "python",
   "pygments_lexer": "ipython3",
   "version": "3.11.6"
  }
 },
 "nbformat": 4,
 "nbformat_minor": 5
}
